{
 "cells": [
  {
   "cell_type": "code",
   "execution_count": 2,
   "id": "surprising-water",
   "metadata": {},
   "outputs": [],
   "source": [
    "#importing necessary modules\n",
    "from datetime import datetime as dt\n",
    "import pandas as pd\n",
    "import numpy as np\n",
    "import xarray as xr\n",
    "\n",
    "import cartopy.crs as ccrs\n",
    "import cartopy.feature as cfeature\n",
    "\n",
    "import matplotlib.pyplot as plt\n",
    "\n",
    "import metpy.calc as mpcalc\n",
    "import metpy.plots as mpplots\n",
    "\n",
    "from matplotlib.patheffects import withStroke\n",
    "from metpy.io import parse_metar_file\n",
    "from metpy.units import pandas_dataframe_to_unit_arrays\n",
    "from metpy.cbook import get_test_data\n",
    "from metpy.units import units\n",
    "\n",
    "from scipy.stats import zscore\n",
    " \n",
    "# Ignore warnings\n",
    "import warnings\n",
    "warnings.filterwarnings('ignore')"
   ]
  },
  {
   "cell_type": "code",
   "execution_count": 3,
   "id": "square-chile",
   "metadata": {},
   "outputs": [
    {
     "ename": "TypeError",
     "evalue": "dropna() missing 1 required positional argument: 'dim'",
     "output_type": "error",
     "traceback": [
      "\u001b[1;31m---------------------------------------------------------------------------\u001b[0m",
      "\u001b[1;31mTypeError\u001b[0m                                 Traceback (most recent call last)",
      "\u001b[1;32m<ipython-input-3-d6e07744b583>\u001b[0m in \u001b[0;36m<module>\u001b[1;34m\u001b[0m\n\u001b[0;32m      2\u001b[0m \u001b[1;31m# Open the netCDF file as a xarray Dataset\u001b[0m\u001b[1;33m\u001b[0m\u001b[1;33m\u001b[0m\u001b[1;33m\u001b[0m\u001b[0m\n\u001b[0;32m      3\u001b[0m \u001b[0mdataX\u001b[0m \u001b[1;33m=\u001b[0m \u001b[0mxr\u001b[0m\u001b[1;33m.\u001b[0m\u001b[0mopen_dataset\u001b[0m\u001b[1;33m(\u001b[0m\u001b[1;34m'C:\\\\Users\\\\Dell\\\\Documents\\\\BD final proj\\\\projdata1.nc4'\u001b[0m\u001b[1;33m,\u001b[0m \u001b[0mdecode_times\u001b[0m \u001b[1;33m=\u001b[0m \u001b[1;32mFalse\u001b[0m\u001b[1;33m)\u001b[0m\u001b[1;33m\u001b[0m\u001b[1;33m\u001b[0m\u001b[0m\n\u001b[1;32m----> 4\u001b[1;33m \u001b[0mdatax\u001b[0m \u001b[1;33m=\u001b[0m \u001b[0mdataX\u001b[0m\u001b[1;33m.\u001b[0m\u001b[0mdropna\u001b[0m\u001b[1;33m(\u001b[0m\u001b[1;33m)\u001b[0m\u001b[1;33m\u001b[0m\u001b[1;33m\u001b[0m\u001b[0m\n\u001b[0m\u001b[0;32m      5\u001b[0m \u001b[1;33m\u001b[0m\u001b[0m\n\u001b[0;32m      6\u001b[0m \u001b[1;31m# View a summary of the Dataset\u001b[0m\u001b[1;33m\u001b[0m\u001b[1;33m\u001b[0m\u001b[1;33m\u001b[0m\u001b[0m\n",
      "\u001b[1;31mTypeError\u001b[0m: dropna() missing 1 required positional argument: 'dim'"
     ]
    }
   ],
   "source": [
    "#Link to datafile: https://drive.google.com/file/d/1kjzuaNx7G6EmjFbIToN6DitoZnbmfy9V/view?usp=sharing\n",
    "# Open the netCDF file as a xarray Dataset\n",
    "dataX = xr.open_dataset('C:\\\\Users\\\\Dell\\\\Documents\\\\BD final proj\\\\projdata1.nc4', decode_times = False)\n",
    "\n",
    "\n",
    "# View a summary of the Dataset\n",
    "dataX"
   ]
  },
  {
   "cell_type": "code",
   "execution_count": null,
   "id": "strong-newport",
   "metadata": {},
   "outputs": [],
   "source": [
    "print(dataX.head,'\\n\\n\\n\\nOriginal Info:\\n\\n',dataX.info)"
   ]
  },
  {
   "cell_type": "code",
   "execution_count": null,
   "id": "pretty-nigeria",
   "metadata": {},
   "outputs": [],
   "source": [
    "#Converting Data to Pandas\n",
    "data1 = dataX.to_dataframe().reset_index()"
   ]
  },
  {
   "cell_type": "code",
   "execution_count": null,
   "id": "irish-february",
   "metadata": {},
   "outputs": [],
   "source": [
    "#Renaming the column Headers\n",
    "data = data1.rename(columns = {'lat':'Latitude', 'lon':'Longitude', 'irrx':'Irradiation','pptx':'Precipitation (mm/month)','tmin':'Min. Temp (C)','tmax':'Max Temp (C)','rhum':'Relative Humidity', 'petx': 'Potential Evapotranspiration','vpxx':'Vapor Pressure (Pa)', 'srad':'Solar Radiation', 'pptx':'Precipitation'})"
   ]
  },
  {
   "cell_type": "code",
   "execution_count": null,
   "id": "included-society",
   "metadata": {},
   "outputs": [],
   "source": [
    "#Removing the unneeded columns from data\n",
    "data.drop(['Potential Evapotranspiration'], axis = 1, inplace = True)"
   ]
  },
  {
   "cell_type": "code",
   "execution_count": null,
   "id": "collectible-belief",
   "metadata": {},
   "outputs": [],
   "source": [
    "#Dropping NaN values\n",
    "data = data.dropna()\n"
   ]
  },
  {
   "cell_type": "code",
   "execution_count": null,
   "id": "inner-parks",
   "metadata": {},
   "outputs": [],
   "source": [
    "#Removing outliers from each columnn - if values are more than 3 std deviations from the mean, they will be removed\n",
    "z = zscore(data)\n",
    "abs_z = np.abs(z)\n",
    "filtered_data = (abs_z < 3).all(axis=1)\n",
    "dataA = data[filtered_data]"
   ]
  },
  {
   "cell_type": "code",
   "execution_count": null,
   "id": "available-principle",
   "metadata": {},
   "outputs": [],
   "source": [
    "dataA"
   ]
  },
  {
   "cell_type": "code",
   "execution_count": null,
   "id": "terminal-military",
   "metadata": {},
   "outputs": [],
   "source": [
    "print('\\nNumber of rows & columns, respectively:\\n\\n\\tUnfiltered Data:',data1.shape, '\\n\\tFiltered Data:',dataA.shape,'\\n\\n\\nNumber of Elements:\\n\\n\\tUnfiltered Data:',data1.size,'\\n\\tFilteredData:',dataA.size,'\\n')"
   ]
  },
  {
   "cell_type": "code",
   "execution_count": null,
   "id": "inclusive-thread",
   "metadata": {},
   "outputs": [],
   "source": [
    "dataXR = dataX.metpy.parse_cf()"
   ]
  },
  {
   "cell_type": "code",
   "execution_count": null,
   "id": "oriental-belief",
   "metadata": {},
   "outputs": [],
   "source": [
    "#temp = tmax.metpy.time\n",
    "#hum = rhum.metpy.time\n",
    "hum = dataXR.rhum.metpy.sel(time, method = 'nearest').squeeze()\n",
    "temp = dataXR.tmin.metpy.sel(time, method='nearest').squeeze()"
   ]
  },
  {
   "cell_type": "code",
   "execution_count": null,
   "id": "nominated-noise",
   "metadata": {},
   "outputs": [],
   "source": []
  }
 ],
 "metadata": {
  "kernelspec": {
   "display_name": "Python 3",
   "language": "python",
   "name": "python3"
  },
  "language_info": {
   "codemirror_mode": {
    "name": "ipython",
    "version": 3
   },
   "file_extension": ".py",
   "mimetype": "text/x-python",
   "name": "python",
   "nbconvert_exporter": "python",
   "pygments_lexer": "ipython3",
   "version": "3.8.5"
  }
 },
 "nbformat": 4,
 "nbformat_minor": 5
}
